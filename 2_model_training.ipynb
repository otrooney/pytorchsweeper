{
 "cells": [
  {
   "cell_type": "markdown",
   "id": "60e324be-abf1-4638-93f9-03332f2b1a11",
   "metadata": {},
   "source": [
    "# Part 2 - Model Training\n",
    "\n",
    "Here we'll use the data generated in the previous notebook to train our neural network to play Minesweeper."
   ]
  },
  {
   "cell_type": "code",
   "execution_count": 19,
   "id": "b45a9b4e-7a3b-45e4-b443-15096850f296",
   "metadata": {},
   "outputs": [],
   "source": [
    "from collections import OrderedDict\n",
    "\n",
    "import matplotlib.pyplot as plt\n",
    "import numpy as np\n",
    "import torch\n",
    "from ais import PytorchsweeperAI\n",
    "from IPython import display\n",
    "from torch import nn\n",
    "from torch.utils.data import DataLoader, Dataset\n",
    "from utils import get_device, test_win_rates"
   ]
  },
  {
   "cell_type": "code",
   "execution_count": 2,
   "id": "28943903-a579-492d-822c-3c9b47172929",
   "metadata": {},
   "outputs": [
    {
     "name": "stdout",
     "output_type": "stream",
     "text": [
      "Using cuda device\n"
     ]
    }
   ],
   "source": [
    "device = get_device()"
   ]
  },
  {
   "cell_type": "markdown",
   "id": "9f75fcd2-c746-46a7-ad32-08ee3754953d",
   "metadata": {},
   "source": [
    "We can create a simple PyTorch `Dataset` class for our training data, which will load the `.npz` files saved in the last notebook and provide the required interfaces to read from them."
   ]
  },
  {
   "cell_type": "code",
   "execution_count": 3,
   "id": "d91ac020-2531-47d3-93f4-4adbd138577f",
   "metadata": {},
   "outputs": [],
   "source": [
    "class MinesweeperDataset(Dataset):\n",
    "    def __init__(self, dataset_file):\n",
    "        data = np.load(dataset_file)\n",
    "        self.input_data = data[\"input_data\"]\n",
    "        self.output_data = data[\"output_data\"]\n",
    "\n",
    "    def __len__(self):\n",
    "        return len(self.input_data)\n",
    "\n",
    "    def __getitem__(self, idx: int):\n",
    "        return self.input_data[idx], self.output_data[idx]"
   ]
  },
  {
   "cell_type": "code",
   "execution_count": 4,
   "id": "56f71839-503f-46dd-aada-1ee3abd78eef",
   "metadata": {},
   "outputs": [],
   "source": [
    "training_data = MinesweeperDataset(\"training_data.npz\")\n",
    "test_data = MinesweeperDataset(\"testing_data.npz\")"
   ]
  },
  {
   "cell_type": "code",
   "execution_count": 5,
   "id": "8d4c92d4-afd6-49bc-bf2e-6f9c95aeaf58",
   "metadata": {},
   "outputs": [],
   "source": [
    "train_dataloader = DataLoader(training_data, batch_size=64, shuffle=True)\n",
    "test_dataloader = DataLoader(test_data, batch_size=64, shuffle=True)"
   ]
  },
  {
   "cell_type": "markdown",
   "id": "ee681536-d2d8-4cc0-83f7-b6c7d836a4fc",
   "metadata": {},
   "source": [
    "For the Pytorchsweeper neural network, we'll use a series of convolutional layers with 3x3 kernels. Minesweeper maps well to convolutional neural networks, as the likelihood that a given square contains a bomb is directly related to the information provided by adjacent squares. Each convolutional layer expands the receptive field and allows the network to solve more complex arrangements of bombs.\n",
    "\n",
    "To allow us to easily experiment with different network configurations, we define the network itself as configurable. There are two parameters, `inner_layers` and `channels`. There is an input layer with one input channel taking in our gamestate, then a number of layers defined by `inner_layers`, followed by an output layer with one output channel. The number of channels between each layer is set by `channels`, and is constant through the model.\n",
    "\n",
    "Our goal for the network is to generate an output array that's as close as possible to the output data we generated with our training set. This can be thought of as a confidence map, where cells which the network is very confident are good guesses have high values close to 1, and cells which the network is confident aren't good guesses will have low values, close to 0."
   ]
  },
  {
   "cell_type": "code",
   "execution_count": 6,
   "id": "00d22fd8-57f6-4b7c-b4cd-cd158b295d85",
   "metadata": {},
   "outputs": [],
   "source": [
    "class PytorchsweeperNeuralNet(nn.Module):\n",
    "    def __init__(self, inner_layers: int, channels: int):\n",
    "        super().__init__()\n",
    "        self.inner_layers = inner_layers\n",
    "        self.channels = channels\n",
    "\n",
    "        layer_dict = OrderedDict({\n",
    "            \"input_conv\": nn.Conv2d(1, self.channels, 3, padding='same'),\n",
    "            \"input_relu\": nn.ReLU()\n",
    "        })\n",
    "\n",
    "        for n in range(self.inner_layers):\n",
    "            layer_dict[\"inner_conv_{}\".format(n+1)] = nn.Conv2d(self.channels, self.channels, 3, padding='same')\n",
    "            layer_dict[\"inner_relu_{}\".format(n+1)] = nn.ReLU()\n",
    "\n",
    "        layer_dict[\"output_conv\"] = nn.Conv2d(self.channels, 1, 3, padding='same')\n",
    "        layer_dict[\"output_relu\"] = nn.ReLU()\n",
    "        \n",
    "        self.convolutional_relu_stack = nn.Sequential(layer_dict)\n",
    "\n",
    "    def forward(self, x):\n",
    "        return self.convolutional_relu_stack(x)"
   ]
  },
  {
   "cell_type": "markdown",
   "id": "3435a69e-0701-4eb6-bd35-2b31fbda8a69",
   "metadata": {},
   "source": [
    "A network with 8 inner layers and 16 channels works well, so we'll build a model with those settings."
   ]
  },
  {
   "cell_type": "code",
   "execution_count": 7,
   "id": "a0384f80-25ad-4829-801f-d63462374582",
   "metadata": {},
   "outputs": [],
   "source": [
    "inner_layers = 8\n",
    "channels = 16\n",
    "\n",
    "model = PytorchsweeperNeuralNet(inner_layers, channels).to(device)"
   ]
  },
  {
   "cell_type": "markdown",
   "id": "93c9d58d-0699-4894-97af-c5b9edae75cb",
   "metadata": {},
   "source": [
    "We can see how many trainable parameters are in our model."
   ]
  },
  {
   "cell_type": "code",
   "execution_count": 8,
   "id": "9586d615-b3db-4fcc-86bf-2084e9eec434",
   "metadata": {},
   "outputs": [
    {
     "data": {
      "text/plain": [
       "18865"
      ]
     },
     "execution_count": 8,
     "metadata": {},
     "output_type": "execute_result"
    }
   ],
   "source": [
    "sum(p.numel() for p in model.parameters() if p.requires_grad)"
   ]
  },
  {
   "cell_type": "markdown",
   "id": "38a35adf-beb1-4760-8206-f8a3a8893634",
   "metadata": {},
   "source": [
    "The loss function we'll be using is mean squared error, and we'll use Adam as the optimizer."
   ]
  },
  {
   "cell_type": "code",
   "execution_count": 9,
   "id": "21a2fd99-44cb-42b8-b19b-56dd10d850b0",
   "metadata": {},
   "outputs": [],
   "source": [
    "loss_fn = nn.MSELoss()\n",
    "optimizer = torch.optim.Adam(model.parameters(), lr=0.001)"
   ]
  },
  {
   "cell_type": "markdown",
   "id": "228e3ab9-ed80-47a4-80fa-f12355c23a5c",
   "metadata": {},
   "source": [
    "We train the network using the standard approach. We use 20 epochs here, although longer training could achieve better results (particularly if configuring the network with more layers and/or channels)."
   ]
  },
  {
   "cell_type": "code",
   "execution_count": 10,
   "id": "f69073d0-d66f-44cb-a2ba-deadbe957fbc",
   "metadata": {},
   "outputs": [],
   "source": [
    "def train(dataloader, model, loss_fn, optimizer):\n",
    "    model.train()\n",
    "    for batch, (X, y) in enumerate(dataloader):\n",
    "        X, y = X.to(device), y.to(device)\n",
    "\n",
    "        pred = model(X)\n",
    "        loss = loss_fn(pred, y)\n",
    "        loss.backward()\n",
    "        optimizer.step()\n",
    "        optimizer.zero_grad()"
   ]
  },
  {
   "cell_type": "code",
   "execution_count": 11,
   "id": "f549dd02-3c93-4f0b-9787-ede7913b7fea",
   "metadata": {},
   "outputs": [],
   "source": [
    "def test(dataloader, model, loss_fn):\n",
    "    num_batches = len(dataloader)\n",
    "    model.eval()\n",
    "    test_loss = 0\n",
    "    with torch.no_grad():\n",
    "        for X, y in dataloader:\n",
    "            X, y = X.to(device), y.to(device)\n",
    "            pred = model(X)\n",
    "            test_loss += loss_fn(pred, y).item()\n",
    "    test_loss /= num_batches\n",
    "    return test_loss"
   ]
  },
  {
   "cell_type": "code",
   "execution_count": 12,
   "id": "28725e81-6f0d-4ae4-8976-237b333e782d",
   "metadata": {},
   "outputs": [
    {
     "data": {
      "image/png": "[encoded data removed]",
      "text/plain": [
       "<Figure size 640x480 with 1 Axes>"
      ]
     },
     "metadata": {},
     "output_type": "display_data"
    }
   ],
   "source": [
    "epochs = 20\n",
    "loss_dict = {}\n",
    "\n",
    "for t in range(epochs):\n",
    "    train(train_dataloader, model, loss_fn, optimizer)\n",
    "    test_loss = test(test_dataloader, model, loss_fn)\n",
    "\n",
    "    # Update graph\n",
    "    loss_dict[t+1] = test_loss\n",
    "    plt.plot(loss_dict.values())\n",
    "    plt.suptitle(\"Epoch {}/{} - Current Loss {:.4}\".format(t+1, epochs, test_loss))\n",
    "    plt.xlabel('epoch')\n",
    "    plt.ylabel('loss')\n",
    "    plt.show()\n",
    "    if t != epochs-1:\n",
    "        display.clear_output(wait=True)"
   ]
  },
  {
   "cell_type": "markdown",
   "id": "b145b209-2473-43c1-802b-b74a6d9f5637",
   "metadata": {},
   "source": [
    "To validate the model we can look at the loss above, but to get more tangible results we can actually have it play games of Minesweeper and see how it does.\n",
    "\n",
    "Here we'll use a class called `PytorchsweeperAI`, defined in `ais.py`, which is a simple wrapper for the PyTorch model. It takes the state of the game, feeds it into the model, and returns the model's prediction."
   ]
  },
  {
   "cell_type": "code",
   "execution_count": 21,
   "id": "fe18e274-a4b2-47ef-80ce-9ef7a05cd828",
   "metadata": {},
   "outputs": [],
   "source": [
    "pytorchsweeper_ai = PytorchsweeperAI(model, device)"
   ]
  },
  {
   "cell_type": "markdown",
   "id": "7aebe30e-90fa-4575-9c3c-5ad215e60f31",
   "metadata": {},
   "source": [
    "The `test_win_rates` function, from `utils.py` runs a number of games at different difficulties to get win rates at each difficulty.\n",
    "\n",
    "Note that we shouldn't expect even a perfect model to win every game. There are circumstances where the player doesn't have enough information to be certain on what the right move is and has to guess, and these are more common in higher difficulties. Even an optimal approach will only win on Expert mode around 40% of the time."
   ]
  },
  {
   "cell_type": "code",
   "execution_count": 23,
   "id": "f7b68876-2d03-4016-9c2f-8f11e62724b6",
   "metadata": {},
   "outputs": [
    {
     "name": "stdout",
     "output_type": "stream",
     "text": [
      "Win rate on Beginner: 96.00%\n",
      "Win rate on Intermediate: 90.00%\n",
      "Win rate on Expert: 37.00%\n"
     ]
    }
   ],
   "source": [
    "test_win_rates(pytorchsweeper_ai, iterations=100)"
   ]
  },
  {
   "cell_type": "markdown",
   "id": "3b9f9857-ec97-40d1-bfa0-a97569568640",
   "metadata": {},
   "source": [
    "We can then save the model as a TorchScript file, so we can reload it later."
   ]
  },
  {
   "cell_type": "code",
   "execution_count": 15,
   "id": "043d5904-87c7-402a-8a2a-10060c19cf8a",
   "metadata": {},
   "outputs": [],
   "source": [
    "torchscript_model = torch.jit.script(model)\n",
    "torchscript_model.save('pytorchsweeper_model.pt')"
   ]
  },
  {
   "cell_type": "markdown",
   "id": "1a17f8af-dfac-4dfa-b160-c94b91ea9987",
   "metadata": {},
   "source": [
    "We can also load other models. Here we've got a larger model (with 16 internal layers) trained over a larger number of epochs."
   ]
  },
  {
   "cell_type": "code",
   "execution_count": 16,
   "id": "292aa297-3b49-457d-8242-67da190808c4",
   "metadata": {},
   "outputs": [],
   "source": [
    "model = torch.jit.load('prepared_pytorchsweeper_model.pt').to(device)\n",
    "advanced_pytorchsweeper_ai = PytorchsweeperAI(model, device)"
   ]
  },
  {
   "cell_type": "code",
   "execution_count": 18,
   "id": "a4b7ad5d-acd5-4bf9-8332-03f0d736bea7",
   "metadata": {},
   "outputs": [
    {
     "name": "stdout",
     "output_type": "stream",
     "text": [
      "Win rate on Beginner: 93.00%\n",
      "Win rate on Intermediate: 90.00%\n",
      "Win rate on Expert: 41.00%\n"
     ]
    }
   ],
   "source": [
    "test_win_rates(advanced_pytorchsweeper_ai, iterations=100)"
   ]
  },
  {
   "cell_type": "markdown",
   "id": "c37fe2af-07df-4fe9-9431-64cc00868dca",
   "metadata": {},
   "source": [
    "In the next notebook, we'll run through games with the model step-by-step, looking at the output of the model to represent how it sees the game."
   ]
  }
 ],
 "metadata": {
  "kernelspec": {
   "display_name": "Python 3 (ipykernel)",
   "language": "python",
   "name": "python3"
  },
  "language_info": {
   "codemirror_mode": {
    "name": "ipython",
    "version": 3
   },
   "file_extension": ".py",
   "mimetype": "text/x-python",
   "name": "python",
   "nbconvert_exporter": "python",
   "pygments_lexer": "ipython3",
   "version": "3.10.12"
  }
 },
 "nbformat": 4,
 "nbformat_minor": 5
}
