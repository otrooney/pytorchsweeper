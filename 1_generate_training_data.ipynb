{
 "cells": [
  {
   "cell_type": "markdown",
   "id": "ac59a950-c00a-4494-8ecf-d15ddfd8451b",
   "metadata": {},
   "source": [
    "# Part 1 - Generating Training Data\n",
    "\n",
    "In order to train our network to play Minesweeper, we'll need training data, and we can generate this by simply running a large number of Minesweeper games. For each game we store the game state at each move, and then randomly select one of those to include in the training set. This allows us to create a set of training data where each element is independent (taken from a different game) and where there's a good distribution of game states from early game to late game.\n",
    "\n",
    "The Minesweeper game itself is implemented entirely using numpy arrays (see `game.py`). This is partly for performance reasons, but also because numpy arrays map well to PyTorch tensors, which simplifies feeding data from the game to the PyTorch model."
   ]
  },
  {
   "cell_type": "code",
   "execution_count": 22,
   "id": "b45a9b4e-7a3b-45e4-b443-15096850f296",
   "metadata": {},
   "outputs": [],
   "source": [
    "import random\n",
    "import numpy as np\n",
    "from ais import MinesweeperAI, CheatingMinesweeperAI\n",
    "from tqdm import tqdm\n",
    "from game import MinesweeperGame\n",
    "\n",
    "np.set_printoptions(precision=1, floatmode='fixed', linewidth=150)"
   ]
  },
  {
   "cell_type": "code",
   "execution_count": 2,
   "id": "f44769e4-2830-4801-a00f-5507e35e3688",
   "metadata": {},
   "outputs": [],
   "source": [
    "def generate_training_data(width: int, height: int, mines: int, ai: MinesweeperAI, n_samples: int):\n",
    "    input_data = []\n",
    "    output_data = []\n",
    "\n",
    "    with tqdm(total=n_samples) as pbar:\n",
    "        for n in range(n_samples):\n",
    "            game = MinesweeperGame(width, height, mines)\n",
    "            game_input_data = []\n",
    "            game_output_data = []\n",
    "            \n",
    "            while not game.is_over:\n",
    "                guess_x, guess_y = ai.guess(game)\n",
    "                game.guess(guess_x, guess_y)\n",
    "                game_input_data.append([game.visible_gamestate.astype('float32')/10.0])\n",
    "                game_output_data.append([np.logical_not(np.logical_or(game.minefield, game.exposedfield)).astype('float32')])\n",
    "            \n",
    "            idx = random.randint(0, len(game_input_data)-1)\n",
    "            input_data.append(game_input_data[idx])\n",
    "            output_data.append(game_output_data[idx])\n",
    "\n",
    "            pbar.update(1)\n",
    "\n",
    "    return input_data, output_data"
   ]
  },
  {
   "cell_type": "markdown",
   "id": "98b61b1d-831c-4d81-bf6f-1e772c31c81f",
   "metadata": {},
   "source": [
    "To generate training data, we use a cheating AI, which avoids bombs, but otherwise guesses randomly. As it wins every game, this allows us to get data representing everything from early game to late game."
   ]
  },
  {
   "cell_type": "code",
   "execution_count": 3,
   "id": "ea7cd4b9-188a-4734-9f99-34fdcb59cd34",
   "metadata": {},
   "outputs": [],
   "source": [
    "ai = CheatingMinesweeperAI()"
   ]
  },
  {
   "cell_type": "markdown",
   "id": "726fb482-0e57-4fc7-8c65-c187ad35b6ab",
   "metadata": {},
   "source": [
    "For the training data, we're using Expert difficulty games, which have 99 mines on a 30x16 grid. We could use any configuration here, but some of the more complex arrangements of mines are much more common on Expert difficulty, and we'd like to include them in the training data."
   ]
  },
  {
   "cell_type": "code",
   "execution_count": 4,
   "id": "fb3fac6a-eac8-4969-8003-013fb04870aa",
   "metadata": {},
   "outputs": [],
   "source": [
    "width = 30\n",
    "height = 16\n",
    "mines = 99"
   ]
  },
  {
   "cell_type": "markdown",
   "id": "aa09a9f0-af93-417a-b64b-eaf1904fffdf",
   "metadata": {},
   "source": [
    "We're generating 50000 samples, which should be enough to train an effective network. As this means running 50000 games, it takes a few minutes."
   ]
  },
  {
   "cell_type": "code",
   "execution_count": 5,
   "id": "f98bca1c-c502-4004-9905-98711e31da8f",
   "metadata": {},
   "outputs": [
    {
     "name": "stderr",
     "output_type": "stream",
     "text": [
      "100%|███████████████████████████████████████████████████████████████████████████████████████████████████████████████| 5000/5000 [01:05<00:00, 75.81it/s]\n"
     ]
    }
   ],
   "source": [
    "n_samples = 50000\n",
    "in_data, out_data = generate_training_data(width, height, mines, ai, n_samples)"
   ]
  },
  {
   "cell_type": "markdown",
   "id": "743543ec-33ac-42c1-8af9-1571c8a30411",
   "metadata": {},
   "source": [
    "We want to split our dataset into training data and test (or validation data), and we'll use a ratio of 90% training data. As each element in our dataset is already independent, there's no need to randomly sample here, we can just take the first N elements for our training data."
   ]
  },
  {
   "cell_type": "code",
   "execution_count": 6,
   "id": "666200dd-2a91-4d54-b1c4-d96cfc9e9c46",
   "metadata": {},
   "outputs": [],
   "source": [
    "training_ratio = 0.9\n",
    "train_size = int(n_samples*training_ratio)\n",
    "test_size = n_samples - train_size"
   ]
  },
  {
   "cell_type": "code",
   "execution_count": 8,
   "id": "795597af-4983-4ccd-91c2-1a59e357eedd",
   "metadata": {},
   "outputs": [],
   "source": [
    "train_data = np.stack(in_data[:train_size])\n",
    "train_output = np.stack(out_data[:train_size])\n",
    "test_data = np.stack(in_data[n_samples-test_size:n_samples])\n",
    "test_output = np.stack(out_data[n_samples-test_size:n_samples])"
   ]
  },
  {
   "cell_type": "markdown",
   "id": "814ccf35-170f-490c-9ded-771d03cba7d9",
   "metadata": {},
   "source": [
    "We now have four sets of data. We have the input data for our training set, the corresponding expected output data we want the network to generate, and then the same for the test data."
   ]
  },
  {
   "cell_type": "code",
   "execution_count": 9,
   "id": "cbc236ab-f6ee-4f8a-94fc-ba99ae48487e",
   "metadata": {},
   "outputs": [
    {
     "data": {
      "text/plain": [
       "(4500, 1, 30, 16)"
      ]
     },
     "execution_count": 9,
     "metadata": {},
     "output_type": "execute_result"
    }
   ],
   "source": [
    "train_data.shape"
   ]
  },
  {
   "cell_type": "markdown",
   "id": "c1ac2e7a-efb5-48dc-aa23-5e80ecb65691",
   "metadata": {},
   "source": [
    "We can take a look at the data to see how it's representing the game. Here's the first element of the input data for our training set:"
   ]
  },
  {
   "cell_type": "code",
   "execution_count": 24,
   "id": "c18f9e95-5102-412c-81a6-6afe3a4e6e37",
   "metadata": {},
   "outputs": [
    {
     "data": {
      "text/plain": [
       "array([[ 0.0,  0.1, -1.0, -1.0, -1.0, -1.0, -1.0, -1.0, -1.0, -1.0, -1.0, -1.0, -1.0,  0.1,  0.0,  0.0],\n",
       "       [ 0.0,  0.1, -1.0, -1.0, -1.0, -1.0, -1.0, -1.0, -1.0, -1.0, -1.0, -1.0, -1.0,  0.2,  0.1,  0.1],\n",
       "       [ 0.0,  0.1, -1.0,  0.4, -1.0, -1.0, -1.0, -1.0, -1.0,  0.2,  0.2,  0.2,  0.1,  0.2, -1.0, -1.0],\n",
       "       [ 0.0,  0.1,  0.1, -1.0, -1.0, -1.0,  0.2, -1.0, -1.0, -1.0, -1.0,  0.1,  0.0,  0.1,  0.1,  0.1],\n",
       "       [ 0.1,  0.2, -1.0, -1.0, -1.0,  0.2, -1.0, -1.0,  0.2, -1.0,  0.2,  0.1,  0.0,  0.0,  0.0,  0.0],\n",
       "       [-1.0, -1.0, -1.0, -1.0, -1.0, -1.0,  0.1, -1.0,  0.2, -1.0,  0.1,  0.0,  0.1,  0.1,  0.2,  0.1],\n",
       "       [-1.0,  0.2,  0.1,  0.1,  0.1,  0.2,  0.1, -1.0, -1.0, -1.0,  0.1,  0.0,  0.1, -1.0, -1.0, -1.0],\n",
       "       [ 0.2,  0.2,  0.0,  0.0,  0.0,  0.1, -1.0,  0.2,  0.1, -1.0,  0.1,  0.2,  0.3, -1.0, -1.0,  0.1],\n",
       "       [-1.0,  0.2,  0.0,  0.1,  0.2,  0.3, -1.0, -1.0, -1.0, -1.0, -1.0, -1.0, -1.0,  0.2,  0.1, -1.0],\n",
       "       [-1.0,  0.2,  0.1,  0.2, -1.0, -1.0, -1.0, -1.0, -1.0, -1.0, -1.0,  0.4, -1.0, -1.0, -1.0, -1.0],\n",
       "       [ 0.1,  0.1, -1.0, -1.0, -1.0,  0.2, -1.0, -1.0,  0.2, -1.0, -1.0, -1.0, -1.0, -1.0, -1.0, -1.0],\n",
       "       [ 0.0,  0.1,  0.2, -1.0, -1.0, -1.0, -1.0, -1.0, -1.0, -1.0, -1.0, -1.0, -1.0,  0.2, -1.0, -1.0],\n",
       "       [ 0.0,  0.1, -1.0, -1.0, -1.0, -1.0, -1.0,  0.1,  0.1, -1.0, -1.0, -1.0, -1.0, -1.0, -1.0,  0.2],\n",
       "       [ 0.1,  0.2, -1.0, -1.0, -1.0, -1.0, -1.0, -1.0,  0.1, -1.0,  0.2, -1.0, -1.0,  0.2,  0.1, -1.0],\n",
       "       [-1.0, -1.0, -1.0, -1.0,  0.2, -1.0,  0.1, -1.0, -1.0, -1.0, -1.0,  0.3, -1.0,  0.2,  0.1,  0.1],\n",
       "       [-1.0, -1.0, -1.0,  0.1, -1.0,  0.2, -1.0, -1.0, -1.0,  0.1,  0.1,  0.2,  0.1,  0.1,  0.0,  0.0],\n",
       "       [-1.0, -1.0, -1.0, -1.0, -1.0,  0.3,  0.1,  0.2, -1.0,  0.1,  0.0,  0.0,  0.0,  0.0,  0.0,  0.0],\n",
       "       [-1.0, -1.0, -1.0, -1.0, -1.0,  0.2,  0.0,  0.1, -1.0,  0.1,  0.0,  0.0,  0.1,  0.1,  0.2,  0.1],\n",
       "       [-1.0, -1.0, -1.0,  0.2,  0.3,  0.2,  0.1,  0.2, -1.0,  0.2,  0.0,  0.0,  0.1, -1.0,  0.2, -1.0],\n",
       "       [-1.0, -1.0, -1.0, -1.0, -1.0, -1.0, -1.0, -1.0, -1.0,  0.3,  0.2,  0.1,  0.1,  0.1, -1.0, -1.0],\n",
       "       [-1.0, -1.0,  0.3, -1.0,  0.3, -1.0, -1.0, -1.0, -1.0, -1.0, -1.0,  0.1,  0.0,  0.1, -1.0, -1.0],\n",
       "       [-1.0,  0.1, -1.0, -1.0,  0.3,  0.4, -1.0, -1.0, -1.0, -1.0,  0.3,  0.1,  0.0,  0.1, -1.0, -1.0],\n",
       "       [ 0.1, -1.0, -1.0, -1.0, -1.0, -1.0, -1.0, -1.0, -1.0, -1.0,  0.2,  0.0,  0.0,  0.1, -1.0, -1.0],\n",
       "       [-1.0,  0.1,  0.1,  0.1,  0.2,  0.1,  0.2, -1.0,  0.3, -1.0,  0.3,  0.2,  0.2,  0.2, -1.0, -1.0],\n",
       "       [ 0.2,  0.2,  0.0,  0.0,  0.0,  0.0,  0.1, -1.0,  0.4, -1.0,  0.3, -1.0, -1.0, -1.0, -1.0, -1.0],\n",
       "       [-1.0,  0.3,  0.1,  0.0,  0.1,  0.1,  0.2, -1.0, -1.0, -1.0,  0.3, -1.0, -1.0, -1.0,  0.2,  0.1],\n",
       "       [-1.0, -1.0,  0.1,  0.1,  0.3, -1.0,  0.4, -1.0,  0.3, -1.0,  0.2, -1.0, -1.0,  0.2,  0.3, -1.0],\n",
       "       [ 0.2,  0.2,  0.1,  0.1, -1.0, -1.0, -1.0, -1.0,  0.2, -1.0, -1.0, -1.0, -1.0, -1.0, -1.0, -1.0],\n",
       "       [ 0.0,  0.0,  0.0,  0.1,  0.2,  0.3,  0.2,  0.2, -1.0, -1.0,  0.2, -1.0, -1.0,  0.2,  0.2, -1.0],\n",
       "       [ 0.0,  0.0,  0.0,  0.0,  0.0,  0.0,  0.0,  0.1,  0.2, -1.0, -1.0,  0.1, -1.0,  0.1, -1.0, -1.0]], dtype=float32)"
      ]
     },
     "execution_count": 24,
     "metadata": {},
     "output_type": "execute_result"
    }
   ],
   "source": [
    "train_data[0][0]"
   ]
  },
  {
   "cell_type": "markdown",
   "id": "b9ae9417-b24d-462f-9da0-e31a261d7229",
   "metadata": {},
   "source": [
    "This is the visible gamestate of a Minesweeper game (i.e. what the player sees) represented as a numpy array, normalized to the range of -1.0 to 0.8. The -1.0 values represent cells which haven't yet been revealed, and numbers from 0.0 up represent the number of bombs in adjacent cells. So 0.0 represents no adjacent bombs, 0.1 means 1 adjacent bomb, 0.4 means 4, etc.\n",
    "\n",
    "We can also look at the output data. This is the data we want the neural network to replicate:"
   ]
  },
  {
   "cell_type": "code",
   "execution_count": 25,
   "id": "63fcb63f-2dd3-4b8b-aa89-c1d69a89e64d",
   "metadata": {},
   "outputs": [
    {
     "data": {
      "text/plain": [
       "array([[0.0, 0.0, 1.0, 0.0, 1.0, 0.0, 1.0, 1.0, 1.0, 0.0, 1.0, 1.0, 1.0, 0.0, 0.0, 0.0],\n",
       "       [0.0, 0.0, 0.0, 1.0, 0.0, 1.0, 1.0, 1.0, 1.0, 0.0, 1.0, 1.0, 0.0, 0.0, 0.0, 0.0],\n",
       "       [0.0, 0.0, 1.0, 0.0, 0.0, 1.0, 1.0, 0.0, 1.0, 0.0, 0.0, 0.0, 0.0, 0.0, 0.0, 1.0],\n",
       "       [0.0, 0.0, 0.0, 1.0, 0.0, 1.0, 0.0, 1.0, 1.0, 1.0, 0.0, 0.0, 0.0, 0.0, 0.0, 0.0],\n",
       "       [0.0, 0.0, 0.0, 1.0, 1.0, 0.0, 1.0, 0.0, 0.0, 1.0, 0.0, 0.0, 0.0, 0.0, 0.0, 0.0],\n",
       "       [1.0, 0.0, 1.0, 1.0, 0.0, 1.0, 0.0, 1.0, 0.0, 0.0, 0.0, 0.0, 0.0, 0.0, 0.0, 0.0],\n",
       "       [0.0, 0.0, 0.0, 0.0, 0.0, 0.0, 0.0, 1.0, 1.0, 1.0, 0.0, 0.0, 0.0, 0.0, 1.0, 0.0],\n",
       "       [0.0, 0.0, 0.0, 0.0, 0.0, 0.0, 0.0, 0.0, 0.0, 1.0, 0.0, 0.0, 0.0, 1.0, 1.0, 0.0],\n",
       "       [0.0, 0.0, 0.0, 0.0, 0.0, 0.0, 1.0, 0.0, 1.0, 1.0, 1.0, 0.0, 0.0, 0.0, 0.0, 1.0],\n",
       "       [0.0, 0.0, 0.0, 0.0, 0.0, 0.0, 1.0, 1.0, 0.0, 0.0, 1.0, 0.0, 0.0, 1.0, 1.0, 0.0],\n",
       "       [0.0, 0.0, 1.0, 0.0, 1.0, 0.0, 1.0, 1.0, 0.0, 1.0, 1.0, 0.0, 1.0, 1.0, 1.0, 1.0],\n",
       "       [0.0, 0.0, 0.0, 1.0, 1.0, 1.0, 1.0, 1.0, 1.0, 1.0, 1.0, 1.0, 0.0, 0.0, 0.0, 1.0],\n",
       "       [0.0, 0.0, 0.0, 1.0, 1.0, 0.0, 0.0, 0.0, 0.0, 1.0, 1.0, 1.0, 1.0, 1.0, 1.0, 0.0],\n",
       "       [0.0, 0.0, 1.0, 0.0, 0.0, 1.0, 1.0, 1.0, 0.0, 0.0, 0.0, 1.0, 0.0, 0.0, 0.0, 0.0],\n",
       "       [0.0, 1.0, 1.0, 1.0, 0.0, 1.0, 0.0, 1.0, 1.0, 1.0, 0.0, 0.0, 0.0, 0.0, 0.0, 0.0],\n",
       "       [1.0, 0.0, 1.0, 0.0, 1.0, 0.0, 0.0, 1.0, 1.0, 0.0, 0.0, 0.0, 0.0, 0.0, 0.0, 0.0],\n",
       "       [0.0, 0.0, 1.0, 1.0, 0.0, 0.0, 0.0, 0.0, 1.0, 0.0, 0.0, 0.0, 0.0, 0.0, 0.0, 0.0],\n",
       "       [1.0, 0.0, 1.0, 1.0, 0.0, 0.0, 0.0, 0.0, 0.0, 0.0, 0.0, 0.0, 0.0, 0.0, 0.0, 0.0],\n",
       "       [0.0, 1.0, 1.0, 0.0, 0.0, 0.0, 0.0, 0.0, 1.0, 0.0, 0.0, 0.0, 0.0, 0.0, 0.0, 0.0],\n",
       "       [0.0, 0.0, 1.0, 0.0, 1.0, 0.0, 1.0, 1.0, 0.0, 0.0, 0.0, 0.0, 0.0, 0.0, 1.0, 1.0],\n",
       "       [1.0, 1.0, 0.0, 1.0, 0.0, 0.0, 0.0, 0.0, 1.0, 0.0, 0.0, 0.0, 0.0, 0.0, 1.0, 1.0],\n",
       "       [1.0, 0.0, 0.0, 1.0, 0.0, 0.0, 0.0, 1.0, 1.0, 0.0, 0.0, 0.0, 0.0, 0.0, 0.0, 1.0],\n",
       "       [0.0, 1.0, 1.0, 0.0, 1.0, 0.0, 1.0, 0.0, 1.0, 1.0, 0.0, 0.0, 0.0, 0.0, 1.0, 0.0],\n",
       "       [0.0, 0.0, 0.0, 0.0, 0.0, 0.0, 0.0, 1.0, 0.0, 0.0, 0.0, 0.0, 0.0, 0.0, 1.0, 1.0],\n",
       "       [0.0, 0.0, 0.0, 0.0, 0.0, 0.0, 0.0, 1.0, 0.0, 0.0, 0.0, 0.0, 0.0, 1.0, 0.0, 1.0],\n",
       "       [0.0, 0.0, 0.0, 0.0, 0.0, 0.0, 0.0, 0.0, 0.0, 1.0, 0.0, 1.0, 1.0, 0.0, 0.0, 0.0],\n",
       "       [0.0, 0.0, 0.0, 0.0, 0.0, 0.0, 0.0, 1.0, 0.0, 0.0, 0.0, 1.0, 1.0, 0.0, 0.0, 1.0],\n",
       "       [0.0, 0.0, 0.0, 0.0, 0.0, 0.0, 0.0, 1.0, 0.0, 1.0, 0.0, 1.0, 1.0, 1.0, 0.0, 0.0],\n",
       "       [0.0, 0.0, 0.0, 0.0, 0.0, 0.0, 0.0, 0.0, 0.0, 1.0, 0.0, 1.0, 1.0, 0.0, 0.0, 1.0],\n",
       "       [0.0, 0.0, 0.0, 0.0, 0.0, 0.0, 0.0, 0.0, 0.0, 0.0, 1.0, 0.0, 0.0, 0.0, 1.0, 1.0]], dtype=float32)"
      ]
     },
     "execution_count": 25,
     "metadata": {},
     "output_type": "execute_result"
    }
   ],
   "source": [
    "train_output[0][0]"
   ]
  },
  {
   "cell_type": "markdown",
   "id": "e7456aa8-74f3-40d1-8878-2b4e1ab71bc6",
   "metadata": {},
   "source": [
    "This is an array of values of zero and one, where one represents a good guess (not already revealed and not a bomb), and zero is a bad guess. All the cells you'll see revealed in the previous array are marked as zero here, as we don't want the network to guess a cell that's already been revealed.\n",
    "\n",
    "We can then save the data as numpy `.npz` files, one for the training data and one for the testing data."
   ]
  },
  {
   "cell_type": "code",
   "execution_count": 12,
   "id": "ea016882-e08d-4477-bd7f-0deccda9b197",
   "metadata": {},
   "outputs": [],
   "source": [
    "np.savez(\"training_data\", input_data=train_data, output_data=train_output)\n",
    "np.savez(\"testing_data\", input_data=test_data, output_data=test_output)"
   ]
  }
 ],
 "metadata": {
  "kernelspec": {
   "display_name": "Python 3 (ipykernel)",
   "language": "python",
   "name": "python3"
  },
  "language_info": {
   "codemirror_mode": {
    "name": "ipython",
    "version": 3
   },
   "file_extension": ".py",
   "mimetype": "text/x-python",
   "name": "python",
   "nbconvert_exporter": "python",
   "pygments_lexer": "ipython3",
   "version": "3.10.12"
  }
 },
 "nbformat": 4,
 "nbformat_minor": 5
}
